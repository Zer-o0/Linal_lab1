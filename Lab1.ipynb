{
  "nbformat": 4,
  "nbformat_minor": 0,
  "metadata": {
    "colab": {
      "provenance": []
    },
    "kernelspec": {
      "name": "python3",
      "display_name": "Python 3"
    },
    "language_info": {
      "name": "python"
    }
  },
  "cells": [
    {
      "cell_type": "markdown",
      "source": [
        "# PCA: Полное руководство с формулами\n",
        "\n",
        "---\n",
        "\n",
        "## 1. Постановка задачи  \n",
        "Пусть даны центрированные данные в виде матрицы $X_c$ размерности $n \\times m$.\n",
        "\n",
        "**Ковариационная матрица**:  \n",
        "$$\n",
        "\\Sigma = \\frac{1}{n-1} X_c^T X_c\n",
        "$$\n",
        "\n",
        "---\n",
        "\n",
        "## 2. Вычисление матрицы ковариаций  \n",
        "**Формула**:  \n",
        "$$\n",
        "\\Sigma = \\frac{1}{n-1} X_c^T X_c\n",
        "$$\n",
        "\n",
        "**Пояснение**:  \n",
        "- $X_c$ — центрированная матрица данных.  \n",
        "- $n$ — количество объектов, $m$ — количество признаков.  \n",
        "\n",
        "---\n",
        "\n",
        "## 3. Нахождение собственных значений и векторов  \n",
        "Для симметричной матрицы $\\Sigma$:  \n",
        "- Собственные значения $\\lambda_i$ вещественные и неотрицательные.  \n",
        "- Собственные векторы $v_i$ ортонормированы.  \n",
        "\n",
        "**Уравнение**:  \n",
        "$$\n",
        "\\Sigma v = \\lambda v\n",
        "$$\n",
        "\n",
        "**Пример для матрицы 2×2**:  \n",
        "$$\n",
        "\\Sigma = \\begin{bmatrix} 4 & 2 \\\\ 2 & 3 \\end{bmatrix}\n",
        "$$\n",
        "\n",
        "**Собственные значения**:  \n",
        "$$\n",
        "\\lambda_1 = 5.56, \\quad \\lambda_2 = 1.44\n",
        "$$\n",
        "\n",
        "---\n",
        "\n",
        "## 4. Проекция данных  \n",
        "**Формула проекции**:  \n",
        "$$\n",
        "X_{\\text{proj}} = X_c \\cdot V_k\n",
        "$$  \n",
        "где $V_k$ — матрица первых $k$ собственных векторов.  \n",
        "\n",
        "**Доля объяснённой дисперсии**:  \n",
        "$$\n",
        "\\gamma = \\frac{\\sum_{i=1}^k \\lambda_i}{\\sum_{i=1}^m \\lambda_i}\n",
        "$$\n",
        "\n",
        "---\n",
        "\n",
        "## 5. Доказательство оптимальности PCA  \n",
        "Оптимальные направления PCA — собственные векторы $\\Sigma$, максимизирующие дисперсию.  \n",
        "**Доказательство через Лагранжиан**:  \n",
        "$$\n",
        "\\mathcal{L}(v, \\lambda) = v^T \\Sigma v - \\lambda (v^T v - 1)\n",
        "$$\n",
        "\n",
        "**Условие экстремума**:  \n",
        "$$\n",
        "\\Sigma v = \\lambda v\n",
        "$$\n",
        "\n",
        "---\n"
      ],
      "metadata": {
        "id": "zeWQRpenFirN"
      }
    },
    {
      "cell_type": "markdown",
      "source": [
        "# Задание (Easy): Реализовать метод Гаусса для решения СЛАУ:"
      ],
      "metadata": {
        "id": "g6RDZr9BJWn1"
      }
    },
    {
      "cell_type": "code",
      "source": [
        "import math\n",
        "import unittest\n",
        "from matplotlib.figure import Figure\n",
        "import matplotlib.pyplot as plt\n",
        "import random"
      ],
      "metadata": {
        "id": "NSKa0YxlvVKf"
      },
      "execution_count": 753,
      "outputs": []
    },
    {
      "cell_type": "code",
      "source": [
        "class Matrix:\n",
        "    def __init__(self, data=None):\n",
        "        self.data = data if data else []\n",
        "    def __len__(self):\n",
        "        return len(self.data)\n",
        "\n",
        "    def __getitem__(self, index):\n",
        "        return self.data[index]\n",
        "\n",
        "    def __setitem__(self, index, value):\n",
        "        self.data[index] = value\n",
        "\n",
        "    def append_row(self, row):\n",
        "        self.data.append(row.copy())\n",
        "\n",
        "    def transpose(self):\n",
        "        \"\"\"Транспонированная матрица.\"\"\"\n",
        "        if not self.data:\n",
        "            return Matrix()\n",
        "        return Matrix([list(row) for row in zip(*self.data)])\n",
        "\n",
        "    def get_row(self, index):\n",
        "        return self.data[index]\n",
        "\n",
        "    def get_column(self, index):\n",
        "        \"\"\"Возвращает столбец матрицы по индексу.\"\"\"\n",
        "        return [row[index] for row in self.data]\n",
        "\n",
        "    def __repr__(self):\n",
        "        return \"\\n\".join([\"\\t\".join(map(str, row)) for row in self.data])\n",
        "\n",
        "    def multiply(self, other):\n",
        "      if len(self.data[0]) != len(other.data):\n",
        "          raise ValueError(\"Несовместимые размеры матриц\")\n",
        "      result = []\n",
        "      for i in range(len(self.data)):\n",
        "          row = []\n",
        "          for j in range(len(other.data[0])):\n",
        "              val = sum(self.data[i][k] * other.data[k][j] for k in range(len(other.data)))\n",
        "              row.append(val)\n",
        "          result.append(row)\n",
        "      return Matrix(result)\n",
        "\n",
        "    def scalar_multiply(self, scalar):\n",
        "        \"\"\"Умножение на скаляр.\"\"\"\n",
        "        return Matrix([[elem * scalar for elem in row] for row in self.data])\n",
        "\n",
        "    def __str__(self):\n",
        "        \"\"\"Строковое представление (для print).\"\"\"\n",
        "        return \"\\n\".join([\"\\t\".join(map(\"{:.2f}\".format, row)) for row in self.data])\n",
        "\n",
        "    def determinant(self):\n",
        "        \"\"\"Вычисляет определитель матрицы методом LU-разложения.\"\"\"\n",
        "        n = len(self.data)\n",
        "        if n == 0 or len(self.data[0]) != n:\n",
        "            raise ValueError(\"Матрица должна быть квадратной\")\n",
        "        LU = [row.copy() for row in self.data]\n",
        "        det = 1.0\n",
        "        for i in range(n):\n",
        "            pivot = i\n",
        "            for j in range(i, n):\n",
        "                if abs(LU[j][i]) > abs(LU[pivot][i]):\n",
        "                    pivot = j\n",
        "            if pivot != i:\n",
        "                LU[i], LU[pivot] = LU[pivot], LU[i]\n",
        "                det *= -1\n",
        "            if abs(LU[i][i]) < 1e-10:\n",
        "                return 0.0\n",
        "            det *= LU[i][i]\n",
        "            for j in range(i + 1, n):\n",
        "                LU[j][i] /= LU[i][i]\n",
        "                for k in range(i + 1, n):\n",
        "                    LU[j][k] -= LU[j][i] * LU[i][k]\n",
        "        return det\n",
        "\n",
        "    @property\n",
        "    def nrows(self):\n",
        "        \"\"\"Количество строк.\"\"\"\n",
        "        return len(self.data)\n",
        "\n",
        "    @property\n",
        "    def ncols(self):\n",
        "        \"\"\"Количество столбцов.\"\"\"\n",
        "        return len(self.data[0]) if self.data else 0\n",
        "\n",
        "    def copy(self):\n",
        "        \"\"\"Глубокая копия матрицы.\"\"\"\n",
        "        return Matrix([row.copy() for row in self.data])\n",
        "\n",
        "    def __getitem__(self, index):\n",
        "        return self.data[index]\n",
        "\n",
        "    def __setitem__(self, index, value):\n",
        "        self.data[index] = value\n",
        ""
      ],
      "metadata": {
        "id": "SqUlH6Upsbep"
      },
      "execution_count": 754,
      "outputs": []
    },
    {
      "cell_type": "code",
      "execution_count": 755,
      "metadata": {
        "id": "2QOiE9n7DW-2"
      },
      "outputs": [],
      "source": [
        "def gauss_solver(A, b):\n",
        "    \"\"\"\n",
        "    Решает СЛАУ методом Гаусса.\n",
        "    Возвращает список базисных векторов решения.\n",
        "    \"\"\"\n",
        "    n = len(A)\n",
        "    augmented = Matrix()\n",
        "\n",
        "    # Создание расширенной матрицы [A | b]\n",
        "    for i in range(n):\n",
        "        augmented_row = A.get_row(i) + [b.get_row(i)[0]]\n",
        "        augmented.append_row(augmented_row)\n",
        "\n",
        "    # Прямой ход\n",
        "    for col in range(n):\n",
        "        # Поиск ведущего элемента\n",
        "        pivot_row = None\n",
        "        for row in range(col, n):\n",
        "            if abs(augmented[row][col]) > 1e-10:\n",
        "                pivot_row = row\n",
        "                break\n",
        "        if pivot_row is None:\n",
        "            continue\n",
        "\n",
        "        # Перестановка строк\n",
        "        augmented[col], augmented[pivot_row] = augmented[pivot_row], augmented[col]\n",
        "\n",
        "        # Нормализация ведущей строки\n",
        "        pivot = augmented[col][col]\n",
        "        if abs(pivot) < 1e-10:\n",
        "            raise ValueError(\"Система вырождена\")\n",
        "        for j in range(col, len(augmented[col])):\n",
        "            augmented[col][j] /= pivot\n",
        "\n",
        "        # Обнуление элементов ниже ведущего\n",
        "        for i in range(col + 1, n):\n",
        "            factor = augmented[i][col]\n",
        "            for j in range(col, len(augmented[i])):\n",
        "                augmented[i][j] -= factor * augmented[col][j]\n",
        "\n",
        "    # Проверка на несовместность\n",
        "    for row in augmented:\n",
        "        if all(abs(x) < 1e-10 for x in row[:-1]) and abs(row[-1]) > 1e-10:\n",
        "            raise ValueError(\"Система несовместна\")\n",
        "\n",
        "    # Обратный ход\n",
        "    rank = sum(1 for row in augmented if not all(abs(x) < 1e-10 for x in row[:-1]))\n",
        "    if rank < n:\n",
        "        # Бесконечное множество решений\n",
        "        free_vars = n - rank\n",
        "        solutions = []\n",
        "        for k in range(free_vars):\n",
        "            solution = [0.0] * n\n",
        "            solution[rank + k] = 1.0\n",
        "            for i in range(rank-1, -1, -1):\n",
        "                sum_val = augmented[i][-1]\n",
        "                for j in range(i+1, n):\n",
        "                    sum_val -= augmented[i][j] * solution[j]\n",
        "                solution[i] = sum_val\n",
        "            solutions.append(Matrix([[x] for x in solution]))\n",
        "        return solutions\n",
        "    else:\n",
        "        # Единственное решение\n",
        "        x = [0.0] * n\n",
        "        for i in range(n-1, -1, -1):\n",
        "            x[i] = augmented[i][-1]\n",
        "            for j in range(i+1, n):\n",
        "                x[i] -= augmented[i][j] * x[j]\n",
        "        return [Matrix([[xi] for xi in x])]"
      ]
    },
    {
      "cell_type": "markdown",
      "source": [
        "**Тесты**"
      ],
      "metadata": {
        "id": "onDfrWfkLhOc"
      }
    },
    {
      "cell_type": "code",
      "source": [
        "class TestGaussSolver(unittest.TestCase):\n",
        "    def test_unique_solution(self):\n",
        "        A = Matrix([[2, 1], [1, -1]])\n",
        "        b = Matrix([[5], [1]])\n",
        "        solutions = gauss_solver(A, b)\n",
        "        self.assertAlmostEqual(solutions[0][0][0], 2.0, places=5)\n",
        "        self.assertAlmostEqual(solutions[0][1][0], 1.0, places=5)\n",
        "\n",
        "    def test_infinite_solutions(self):\n",
        "        A = Matrix([[1, 1], [2, 2]])\n",
        "        b = Matrix([[3], [6]])\n",
        "        solutions = gauss_solver(A, b)\n",
        "        self.assertEqual(len(solutions), 1)  # Одна свободная переменная\n",
        "\n",
        "# Запуск тестов без использования unittest.main()\n",
        "if __name__ == \"__main__\":\n",
        "    test_suite = unittest.TestLoader().loadTestsFromTestCase(TestGaussSolver)\n",
        "    unittest.TextTestRunner().run(test_suite)"
      ],
      "metadata": {
        "colab": {
          "base_uri": "https://localhost:8080/"
        },
        "id": "xgWcf74TLgiB",
        "outputId": "cc68d12d-621b-4dc6-cc07-b8331ac0e2ed"
      },
      "execution_count": 756,
      "outputs": [
        {
          "output_type": "stream",
          "name": "stderr",
          "text": [
            "..\n",
            "----------------------------------------------------------------------\n",
            "Ran 2 tests in 0.002s\n",
            "\n",
            "OK\n"
          ]
        }
      ]
    },
    {
      "cell_type": "markdown",
      "source": [
        "# Задание (Easy): Реализовать функцию центрирования данных:"
      ],
      "metadata": {
        "id": "Owv7MgkrMfPM"
      }
    },
    {
      "cell_type": "code",
      "source": [
        "def center_data(X):\n",
        "    \"\"\"Центрирование данных.\"\"\"\n",
        "    if len(X) == 0:\n",
        "        return Matrix()\n",
        "\n",
        "    # Количество строк и столбцов\n",
        "    n = len(X)\n",
        "    m = len(X[0]) if X.data else 0\n",
        "\n",
        "    # Вычисление средних значений по столбцам\n",
        "    means = [sum(X.get_column(j)) / n for j in range(m)]\n",
        "\n",
        "    # Центрируем данные, вычитая среднее значение из каждого столбца\n",
        "    centered = []\n",
        "    for row in X.data:\n",
        "        centered_row = [row[j] - means[j] for j in range(m)]\n",
        "        centered.append(centered_row)\n",
        "\n",
        "    return Matrix(centered)\n"
      ],
      "metadata": {
        "id": "FN56kToTMiUs"
      },
      "execution_count": 757,
      "outputs": []
    },
    {
      "cell_type": "code",
      "source": [
        "# Исходные данные\n",
        "X = Matrix([\n",
        "    [1, 2],\n",
        "    [3, 4],\n",
        "    [5, 6]\n",
        "])\n",
        "\n",
        "# Центрирование\n",
        "X_centered = center_data(X)\n",
        "print(X_centered)\n"
      ],
      "metadata": {
        "colab": {
          "base_uri": "https://localhost:8080/"
        },
        "id": "1sQbdvoKMrhS",
        "outputId": "1327ee1c-87fb-4116-e3e1-cd2330787acc"
      },
      "execution_count": 758,
      "outputs": [
        {
          "output_type": "stream",
          "name": "stdout",
          "text": [
            "-2.00\t-2.00\n",
            "0.00\t0.00\n",
            "2.00\t2.00\n"
          ]
        }
      ]
    },
    {
      "cell_type": "markdown",
      "source": [
        "#Задание (Easy): Вычислить матрицу ковариаций:"
      ],
      "metadata": {
        "id": "E9zIFpO0M-EV"
      }
    },
    {
      "cell_type": "code",
      "source": [
        "def covariance_matrix(X_centered):\n",
        "    \"\"\"Вычисляет матрицу ковариаций.\"\"\"\n",
        "    if len(X_centered) == 0:\n",
        "        return Matrix()\n",
        "\n",
        "    n = len(X_centered)\n",
        "    if n == 1:\n",
        "        raise ValueError(\"Недостаточно данных для вычисления ковариации\")\n",
        "\n",
        "    X_transposed = X_centered.transpose()\n",
        "    XTX = X_transposed.multiply(X_centered)\n",
        "    C = XTX.scalar_multiply(1 / (n - 1))\n",
        "\n",
        "    return C\n",
        "\n",
        "# Пример использования\n",
        "X_centered = Matrix([[-2, -2], [0, 0], [2, 2]])\n",
        "C = covariance_matrix(X_centered)\n",
        "print(C)"
      ],
      "metadata": {
        "colab": {
          "base_uri": "https://localhost:8080/"
        },
        "id": "9W1OrFybNCly",
        "outputId": "b215090d-02b9-4535-e4b5-4a9eaad40560"
      },
      "execution_count": 759,
      "outputs": [
        {
          "output_type": "stream",
          "name": "stdout",
          "text": [
            "4.00\t4.00\n",
            "4.00\t4.00\n"
          ]
        }
      ]
    },
    {
      "cell_type": "code",
      "source": [
        "# Центрированная матрица из предыдущего примера\n",
        "X_centered = Matrix([[-2, -2], [0, 0], [2, 2]])\n",
        "\n",
        "# Вычисление матрицы ковариаций\n",
        "C = covariance_matrix(X_centered)\n",
        "print(C)"
      ],
      "metadata": {
        "colab": {
          "base_uri": "https://localhost:8080/"
        },
        "id": "Xe_mglFtNEzG",
        "outputId": "82c129bb-2972-46eb-bfea-464321a9f52a"
      },
      "execution_count": 760,
      "outputs": [
        {
          "output_type": "stream",
          "name": "stdout",
          "text": [
            "4.00\t4.00\n",
            "4.00\t4.00\n"
          ]
        }
      ]
    },
    {
      "cell_type": "markdown",
      "source": [
        "**Тесты**"
      ],
      "metadata": {
        "id": "4UzhhogHURIm"
      }
    },
    {
      "cell_type": "code",
      "source": [
        "# Проверка транспонирования\n",
        "X = Matrix([[1, 2], [3, 4]])\n",
        "print(X.transpose())  # Вывод: 1.00    3.00\n",
        "                     #         2.00    4.00\n",
        "\n",
        "# Проверка умножения на скаляр\n",
        "Y = Matrix([[1, 2], [3, 4]])\n",
        "print(Y.scalar_multiply(2))  # Вывод: 2.00    4.00\n",
        "                            #         6.00    8.00"
      ],
      "metadata": {
        "colab": {
          "base_uri": "https://localhost:8080/"
        },
        "id": "f2ZlxUgZUQ3i",
        "outputId": "1e626245-b116-4530-9f6f-c1584e77332d"
      },
      "execution_count": 761,
      "outputs": [
        {
          "output_type": "stream",
          "name": "stdout",
          "text": [
            "1.00\t3.00\n",
            "2.00\t4.00\n",
            "2.00\t4.00\n",
            "6.00\t8.00\n"
          ]
        }
      ]
    },
    {
      "cell_type": "markdown",
      "source": [
        "# Задание (Normal): Найти собственные значения матрицы C методом бисекции:"
      ],
      "metadata": {
        "id": "vTdTLk7KUjvV"
      }
    },
    {
      "cell_type": "code",
      "source": [
        "def find_eigenvalues(C, tol=1e-6):\n",
        "    \"\"\"\n",
        "    Находит собственные значения симметричной матрицы методом бисекции.\n",
        "\n",
        "    Аргументы:\n",
        "        C (Matrix): Квадратная симметричная матрица (m×m).\n",
        "        tol (float): Точность вычислений.\n",
        "\n",
        "    Возвращает:\n",
        "        list: Список собственных значений в порядке убывания.\n",
        "    \"\"\"\n",
        "    m = len(C)\n",
        "    if m == 0:\n",
        "        return []\n",
        "\n",
        "    # Функция для вычисления определителя матрицы (C - λI)\n",
        "    def determinant(lambda_):\n",
        "        matrix = Matrix([[C[i][j] - (lambda_ if i == j else 0) for j in range(m)] for i in range(m)])\n",
        "        return matrix.determinant()\n",
        "\n",
        "    # Оценка границ для λ (используем след матрицы)\n",
        "    trace = sum(C[i][i] for i in range(m))\n",
        "    lower = -trace  # Минимальная возможная λ\n",
        "    upper = trace   # Максимальная возможная λ\n",
        "\n",
        "    eigenvalues = []\n",
        "\n",
        "    # Поиск всех собственных значений через рекурсивное деление интервала\n",
        "    def bisect(a, b):\n",
        "        fa = determinant(a)\n",
        "        fb = determinant(b)\n",
        "\n",
        "        # Проверка на корни на границах\n",
        "        if abs(fa) < tol:\n",
        "            eigenvalues.append(a)\n",
        "        if abs(fb) < tol:\n",
        "            eigenvalues.append(b)\n",
        "\n",
        "        if abs(b - a) < tol:\n",
        "            return\n",
        "\n",
        "        mid = (a + b) / 2\n",
        "        fm = determinant(mid)\n",
        "\n",
        "        # Рекурсивно проверяем интервалы [a, mid] и [mid, b]\n",
        "        if fa * fm < 0:\n",
        "            bisect(a, mid)\n",
        "        if fm * fb < 0:\n",
        "            bisect(mid, b)\n",
        "\n",
        "    bisect(lower, upper)\n",
        "\n",
        "    # Сортировка и удаление дубликатов\n",
        "    eigenvalues = sorted(list(set(round(val, 6) for val in eigenvalues)), reverse=True)\n",
        "    return eigenvalues\n",
        "\n"
      ],
      "metadata": {
        "id": "jQ549G5zUrOW"
      },
      "execution_count": 762,
      "outputs": []
    },
    {
      "cell_type": "code",
      "source": [
        "C = Matrix([[4.0, 4.0], [4.0, 4.0]])\n",
        "eigenvalues = find_eigenvalues(C, tol=1e-6)\n",
        "print(eigenvalues)  # [8.0, 0.0]"
      ],
      "metadata": {
        "colab": {
          "base_uri": "https://localhost:8080/"
        },
        "id": "DbkJI4VTVcwG",
        "outputId": "d9c5eb1c-76b3-47f0-a09e-fa51861df617"
      },
      "execution_count": 763,
      "outputs": [
        {
          "output_type": "stream",
          "name": "stdout",
          "text": [
            "[8.0]\n"
          ]
        }
      ]
    },
    {
      "cell_type": "markdown",
      "source": [
        "# Задание (Normal): Найти собственные векторы матрицы C"
      ],
      "metadata": {
        "id": "pX6IjrpEVjpx"
      }
    },
    {
      "cell_type": "code",
      "source": [
        "def find_eigenvectors(C, eigenvalues):\n",
        "    \"\"\"\n",
        "    Находит собственные векторы матрицы C для заданных собственных значений.\n",
        "\n",
        "    Аргументы:\n",
        "        C (Matrix): Квадратная симметричная матрица (m×m).\n",
        "        eigenvalues (list): Список собственных значений.\n",
        "\n",
        "    Возвращает:\n",
        "        list: Список собственных векторов (каждый вектор — Matrix размера m×1).\n",
        "    \"\"\"\n",
        "    eigenvectors = []\n",
        "    m = len(C)\n",
        "\n",
        "    for lambda_ in eigenvalues:\n",
        "        # Матрица (C - λI)\n",
        "        A = Matrix([[C[i][j] - (lambda_ if i == j else 0) for j in range(m)] for i in range(m)])\n",
        "        b = Matrix([[0.0] for _ in range(m)])\n",
        "\n",
        "        try:\n",
        "            solutions = gauss_solver(A, b)\n",
        "            for vec in solutions:\n",
        "                # Нормировка вектора (по длине)\n",
        "                norm = math.sqrt(sum(x[0] ** 2 for x in vec.data))\n",
        "                if norm > 1e-8:\n",
        "                    normalized = Matrix([[x[0] / norm] for x in vec.data])\n",
        "                    eigenvectors.append(normalized)\n",
        "        except ValueError:\n",
        "            continue  # если система несовместна или вырождена\n",
        "\n",
        "    return eigenvectors\n"
      ],
      "metadata": {
        "id": "tNd8UdRyqGTm"
      },
      "execution_count": 764,
      "outputs": []
    },
    {
      "cell_type": "code",
      "source": [
        "C = Matrix([[4.0, 4.0], [4.0, 4.0]])\n",
        "eigenvalues = [8.0, 0.0]\n",
        "eigenvectors = find_eigenvectors(C, eigenvalues)\n",
        "\n",
        "print(\"Собственные векторы:\")\n",
        "for vec in eigenvectors:\n",
        "    print(vec)"
      ],
      "metadata": {
        "colab": {
          "base_uri": "https://localhost:8080/"
        },
        "id": "9yq-lVEnvqrH",
        "outputId": "69b17f8e-18d2-4ce0-d4d6-ab5cfbbbc426"
      },
      "execution_count": 765,
      "outputs": [
        {
          "output_type": "stream",
          "name": "stdout",
          "text": [
            "Собственные векторы:\n",
            "0.71\n",
            "0.71\n",
            "-0.71\n",
            "0.71\n"
          ]
        }
      ]
    },
    {
      "cell_type": "markdown",
      "source": [
        "# Задание (Normal): Вычислить долю объяснённой дисперсии\n"
      ],
      "metadata": {
        "id": "gAM_IGlfxePC"
      }
    },
    {
      "cell_type": "code",
      "source": [
        "def explained_variance_ratio(eigenvalues, k):\n",
        "    \"\"\"\n",
        "    Вычисляет долю объяснённой дисперсии для первых k компонент.\n",
        "\n",
        "    Аргументы:\n",
        "        eigenvalues (list): Список собственных значений (предполагается отсортированными по убыванию).\n",
        "        k (int): Количество компонент для расчёта.\n",
        "\n",
        "    Возвращает:\n",
        "        float: Доля объяснённой дисперсии.\n",
        "    \"\"\"\n",
        "    if not eigenvalues or k <= 0:\n",
        "        return 0.0\n",
        "\n",
        "    # Сортировка собственных значений по убыванию (для надёжности)\n",
        "    sorted_eigenvalues = sorted(eigenvalues, reverse=True)\n",
        "    total_variance = sum(sorted_eigenvalues)\n",
        "\n",
        "    if total_variance == 0:\n",
        "        return 0.0\n",
        "\n",
        "    # Если k превышает количество собственных значений, берём все\n",
        "    k = min(k, len(sorted_eigenvalues))\n",
        "    sum_k = sum(sorted_eigenvalues[:k])\n",
        "\n",
        "    return sum_k / total_variance"
      ],
      "metadata": {
        "id": "3StbQ2jKxiAB"
      },
      "execution_count": 766,
      "outputs": []
    },
    {
      "cell_type": "markdown",
      "source": [],
      "metadata": {
        "id": "-vsh2U5avt-w"
      }
    },
    {
      "cell_type": "code",
      "source": [
        "eigenvalues = [4.0, 2.0, 1.0]\n",
        "k = 2\n",
        "ratio = explained_variance_ratio(eigenvalues, k)\n",
        "print(f\"Доля объяснённой дисперсии: {ratio:.2f}\")  # Вывод: 0.86"
      ],
      "metadata": {
        "colab": {
          "base_uri": "https://localhost:8080/"
        },
        "id": "4UgUbuYWxkAd",
        "outputId": "f3d074c3-0091-4522-86ee-7c4e9d7276f5"
      },
      "execution_count": 767,
      "outputs": [
        {
          "output_type": "stream",
          "name": "stdout",
          "text": [
            "Доля объяснённой дисперсии: 0.86\n"
          ]
        }
      ]
    },
    {
      "cell_type": "markdown",
      "source": [
        "**Тесты**"
      ],
      "metadata": {
        "id": "Iao5S1oFzCIi"
      }
    },
    {
      "cell_type": "code",
      "source": [
        "class TestExplainedVarianceRatio(unittest.TestCase):\n",
        "    def test_basic_case(self):\n",
        "        eigenvalues = [4.0, 2.0, 1.0]\n",
        "        k = 2\n",
        "        ratio = explained_variance_ratio(eigenvalues, k)\n",
        "        self.assertAlmostEqual(ratio, (4 + 2) / (4 + 2 + 1), delta=1e-6)\n",
        "\n",
        "    def test_k_zero(self):\n",
        "        eigenvalues = [4.0, 2.0, 1.0]\n",
        "        k = 0\n",
        "        ratio = explained_variance_ratio(eigenvalues, k)\n",
        "        self.assertEqual(ratio, 0.0)\n",
        "\n",
        "    def test_k_larger_than_eigenvalues_length(self):\n",
        "        eigenvalues = [3.0, 1.0]\n",
        "        k = 5\n",
        "        ratio = explained_variance_ratio(eigenvalues, k)\n",
        "        self.assertAlmostEqual(ratio, 1.0, delta=1e-6)\n",
        "\n",
        "    def test_total_variance_zero(self):\n",
        "        eigenvalues = [0.0, 0.0]\n",
        "        k = 1\n",
        "        ratio = explained_variance_ratio(eigenvalues, k)\n",
        "        self.assertEqual(ratio, 0.0)\n",
        "\n",
        "    def test_empty_eigenvalues(self):\n",
        "        eigenvalues = []\n",
        "        k = 2\n",
        "        ratio = explained_variance_ratio(eigenvalues, k)\n",
        "        self.assertEqual(ratio, 0.0)\n",
        "\n",
        "if __name__ == \"__main__\":\n",
        "    test_suite = unittest.TestLoader().loadTestsFromTestCase(TestExplainedVarianceRatio)\n",
        "    unittest.TextTestRunner().run(test_suite)"
      ],
      "metadata": {
        "colab": {
          "base_uri": "https://localhost:8080/"
        },
        "id": "OFRdwOUyxsFG",
        "outputId": "2d5edb3d-cc43-4b1e-f470-7c0792c47c08"
      },
      "execution_count": 768,
      "outputs": [
        {
          "output_type": "stream",
          "name": "stderr",
          "text": [
            ".....\n",
            "----------------------------------------------------------------------\n",
            "Ran 5 tests in 0.004s\n",
            "\n",
            "OK\n"
          ]
        }
      ]
    },
    {
      "cell_type": "markdown",
      "source": [
        "# Задание (Hard): Реализовать полный алгоритм PCA:"
      ],
      "metadata": {
        "id": "9tuFXnQo0O8r"
      }
    },
    {
      "cell_type": "code",
      "source": [
        "def pca(X, k):\n",
        "    \"\"\"\n",
        "    Реализует алгоритм PCA и возвращает проекцию данных и долю объяснённой дисперсии.\n",
        "    \"\"\"\n",
        "    # 1. Центрирование данных\n",
        "    X_centered = center_data(X)\n",
        "\n",
        "    # 2. Вычисление матрицы ковариаций\n",
        "    C = covariance_matrix(X_centered)\n",
        "\n",
        "    # 3. Нахождение собственных значений и векторов\n",
        "    eigenvalues = find_eigenvalues(C)\n",
        "    eigenvectors = find_eigenvectors(C, eigenvalues)\n",
        "\n",
        "    # Проверка наличия данных\n",
        "    if not eigenvalues or not eigenvectors or k <= 0:\n",
        "        return (Matrix(), 0.0)\n",
        "\n",
        "    # Сортировка пар (λ, v) по убыванию λ\n",
        "    sorted_pairs = sorted(zip(eigenvalues, eigenvectors), key=lambda x: -x[0])\n",
        "    eigenvalues, eigenvectors = zip(*sorted_pairs) if sorted_pairs else ([], [])\n",
        "\n",
        "    # Выбор первых k векторов и формирование матрицы V_k (m x k)\n",
        "    k = min(k, len(eigenvectors))\n",
        "    V_k_data = []\n",
        "    for vec in eigenvectors[:k]:\n",
        "        # Нормировка вектора\n",
        "        norm = math.sqrt(sum(x[0] ** 2 for x in vec.data))\n",
        "        if norm == 0:\n",
        "            continue\n",
        "        column = [x[0] / norm for x in vec.data]\n",
        "        V_k_data.append(column)\n",
        "\n",
        "    if not V_k_data:\n",
        "        return (Matrix(), 0.0)\n",
        "\n",
        "    V_k = Matrix(V_k_data).transpose()  # Размерность m x k\n",
        "\n",
        "    # 4. Проекция данных: X_centered (n x m) * V_k (m x k) = (n x k)\n",
        "    try:\n",
        "        X_proj = X_centered.multiply(V_k)\n",
        "    except ValueError as e:\n",
        "        print(f\"Ошибка умножения матриц: {e}\")\n",
        "        return (Matrix(), 0.0)\n",
        "\n",
        "    # Доля объяснённой дисперсии\n",
        "    total_variance = sum(eigenvalues)\n",
        "    ratio = sum(eigenvalues[:k]) / total_variance if total_variance != 0 else 0.0\n",
        "\n",
        "    return (X_proj, ratio)\n",
        "\n",
        "# Пример использования\n",
        "X = Matrix([[1, 2], [3, 4], [5, 6]])\n",
        "X_proj, ratio = pca(X, k=1)\n",
        "print(\"Проекция данных:\")\n",
        "print(X_proj)\n",
        "print(f\"Доля объяснённой дисперсии: {ratio:.2f}\")"
      ],
      "metadata": {
        "colab": {
          "base_uri": "https://localhost:8080/"
        },
        "id": "eDDwkPLN0SfQ",
        "outputId": "2c899cb4-8a09-48cb-c25c-1f6840e0e451"
      },
      "execution_count": 769,
      "outputs": [
        {
          "output_type": "stream",
          "name": "stdout",
          "text": [
            "Проекция данных:\n",
            "-2.83\n",
            "0.00\n",
            "2.83\n",
            "Доля объяснённой дисперсии: 1.00\n"
          ]
        }
      ]
    },
    {
      "cell_type": "code",
      "source": [
        "# Создаем матрицу\n",
        "X = Matrix([[1, 2], [3, 4], [5, 6]])\n",
        "# Запускаем PCA\n",
        "X_proj, ratio = pca(X, k=1)\n",
        "print(\"Проекция данных:\")\n",
        "print(X_proj)\n",
        "print(f\"Доля объяснённой дисперсии: {ratio:.2f}\")"
      ],
      "metadata": {
        "colab": {
          "base_uri": "https://localhost:8080/"
        },
        "id": "9tddk24P0w7H",
        "outputId": "8ab8fe88-e031-4ec1-c8de-c32fc894ed7b"
      },
      "execution_count": 770,
      "outputs": [
        {
          "output_type": "stream",
          "name": "stdout",
          "text": [
            "Проекция данных:\n",
            "-2.83\n",
            "0.00\n",
            "2.83\n",
            "Доля объяснённой дисперсии: 1.00\n"
          ]
        }
      ]
    },
    {
      "cell_type": "markdown",
      "source": [
        "# Задание (Hard): Визуализировать проекцию данных на первые две главные компоненты.\n"
      ],
      "metadata": {
        "id": "Sn9xiBmsPCVm"
      }
    },
    {
      "cell_type": "code",
      "source": [
        "def plot_pca_projection(X_proj: Matrix) -> plt.Figure:\n",
        "    fig, ax = plt.subplots()\n",
        "    x = [row[0] for row in X_proj.data]\n",
        "    y = [row[1] for row in X_proj.data]\n",
        "    ax.scatter(x, y, alpha=0.7)\n",
        "    ax.set_xlabel(\"Первая главная компонента\")\n",
        "    ax.set_ylabel(\"Вторая главная компонента\")\n",
        "    ax.set_title(\"Проекция данных на PCA\")\n",
        "    ax.grid(True)\n",
        "    return fig\n",
        "\n",
        "# Пример вызова\n",
        "X_proj = Matrix([[-1.5, 0.3], [0.2, -1.1], [2.0, 0.8]])\n",
        "fig = plot_pca_projection(X_proj)\n",
        "plt.show()"
      ],
      "metadata": {
        "colab": {
          "base_uri": "https://localhost:8080/",
          "height": 472
        },
        "id": "HlWqm4y_PNUI",
        "outputId": "99dd3a68-b806-4bf7-c246-d4b9a3a1b7a0"
      },
      "execution_count": 771,
      "outputs": [
        {
          "output_type": "display_data",
          "data": {
            "text/plain": [
              "<Figure size 640x480 with 1 Axes>"
            ],
            "image/png": "[encoded data removed]"
          },
          "metadata": {}
        }
      ]
    },
    {
      "cell_type": "markdown",
      "source": [
        "# Задание (Hard): Вычислить среднеквадратическую ошибку восстановления данных:\n"
      ],
      "metadata": {
        "id": "UJGuBY-4U0DQ"
      }
    },
    {
      "cell_type": "code",
      "source": [
        "def reconstruction_error(X_orig, X_recon):\n",
        "    \"\"\"\n",
        "    Вычисляет среднеквадратическую ошибку (MSE) между исходными и восстановленными данными.\n",
        "\n",
        "    Аргументы:\n",
        "        X_orig: Исходные данные (n×m).\n",
        "        X_recon: Восстановленные данные (n×m).\n",
        "\n",
        "    Возвращает:\n",
        "        Значение MSE.\n",
        "\n",
        "    Исключения:\n",
        "        ValueError: Если размеры матриц не совпадают.\n",
        "    \"\"\"\n",
        "    n_orig = len(X_orig)\n",
        "    m_orig = len(X_orig[0]) if n_orig > 0 else 0\n",
        "    n_recon = len(X_recon)\n",
        "    m_recon = len(X_recon[0]) if n_recon > 0 else 0\n",
        "\n",
        "    if n_orig != n_recon or m_orig != m_recon:\n",
        "        raise ValueError(\"Матрицы должны иметь одинаковые размеры\")\n",
        "\n",
        "    total_elements = n_orig * m_orig\n",
        "    if total_elements == 0:\n",
        "        return 0.0\n",
        "\n",
        "    sum_sq_diff = 0.0\n",
        "    for i in range(n_orig):\n",
        "        for j in range(m_orig):\n",
        "            diff = X_orig[i][j] - X_recon[i][j]\n",
        "            sum_sq_diff += diff ** 2\n",
        "\n",
        "    return sum_sq_diff / total_elements"
      ],
      "metadata": {
        "id": "HsQCAmGtU3zE"
      },
      "execution_count": 772,
      "outputs": []
    },
    {
      "cell_type": "code",
      "source": [
        "X_orig = Matrix([[1, 2], [3, 4], [5, 6]])\n",
        "X_recon = Matrix([[1, 1], [2, 2], [3, 3]])\n",
        "print(reconstruction_error(X_orig, X_recon))  # Результат: 3.0"
      ],
      "metadata": {
        "colab": {
          "base_uri": "https://localhost:8080/"
        },
        "id": "Ucy4xaDlVaRa",
        "outputId": "59f28fc2-6503-4993-e523-f5c1c30589b2"
      },
      "execution_count": 773,
      "outputs": [
        {
          "output_type": "stream",
          "name": "stdout",
          "text": [
            "3.1666666666666665\n"
          ]
        }
      ]
    },
    {
      "cell_type": "markdown",
      "source": [
        "# Задание (Expert): Добавить автоматический выбор числа главных компонент на основе порога объяснённой дисперсии (встроить это в реализованную функцию pca):"
      ],
      "metadata": {
        "id": "gB1PCOlKVsoF"
      }
    },
    {
      "cell_type": "code",
      "source": [
        "def auto_select_k(eigenvalues, threshold=0.95):\n",
        "    \"\"\"\n",
        "    Автоматически выбирает число главных компонент `k` на основе порога объяснённой дисперсии.\n",
        "\n",
        "    Аргументы:\n",
        "        eigenvalues (list): Список собственных значений (отсортированных по убыванию).\n",
        "        threshold (float): Порог объяснённой дисперсии (0 ≤ threshold ≤ 1).\n",
        "\n",
        "    Возвращает:\n",
        "        int: Оптимальное число главных компонент `k`.\n",
        "\n",
        "    Исключения:\n",
        "        ValueError: Если `threshold` вне диапазона [0, 1] или `eigenvalues` пуст.\n",
        "    \"\"\"\n",
        "    if not eigenvalues:\n",
        "        raise ValueError(\"Список собственных значений не может быть пустым\")\n",
        "    if threshold < 0 or threshold > 1:\n",
        "        raise ValueError(\"Порог должен быть в диапазоне [0, 1]\")\n",
        "\n",
        "    # Сортировка собственных значений по убыванию (если ещё не отсортированы)\n",
        "    sorted_eigenvalues = sorted(eigenvalues, reverse=True)\n",
        "    total_variance = sum(sorted_eigenvalues)\n",
        "\n",
        "    if total_variance == 0:\n",
        "        return 0  # Все данные нулевые\n",
        "\n",
        "    cumulative_sum = 0.0\n",
        "    for k, value in enumerate(sorted_eigenvalues, start=1):\n",
        "        cumulative_sum += value\n",
        "        if cumulative_sum / total_variance >= threshold:\n",
        "            return k\n",
        "\n",
        "    # Если порог не достигнут (например, threshold=1 и сумма < total_variance)\n",
        "    return len(sorted_eigenvalues)\n",
        "\n",
        "# Модифицированная функция PCA с поддержкой автоматического выбора k\n",
        "def pca(X, k=None, threshold=None):\n",
        "    \"\"\"\n",
        "    Реализует алгоритм PCA с возможностью автоматического выбора числа компонент.\n",
        "    \"\"\"\n",
        "    if k is None and threshold is None:\n",
        "        raise ValueError(\"Укажите либо `k`, либо `threshold`\")\n",
        "\n",
        "    # Центрирование данных и вычисление ковариационной матрицы\n",
        "    X_centered = center_data(X)\n",
        "    C = covariance_matrix(X_centered)\n",
        "\n",
        "    # Нахождение собственных значений и векторов\n",
        "    eigenvalues = find_eigenvalues(C)\n",
        "    eigenvectors = find_eigenvectors(C, eigenvalues)\n",
        "\n",
        "    if not eigenvalues or not eigenvectors:\n",
        "        return (Matrix(), 0.0)\n",
        "\n",
        "    # Сортировка пар (λ, v) по убыванию λ\n",
        "    sorted_pairs = sorted(zip(eigenvalues, eigenvectors), key=lambda x: -x[0])\n",
        "    eigenvalues, eigenvectors = zip(*sorted_pairs) if sorted_pairs else ([], [])\n",
        "\n",
        "    # Автоматический выбор k\n",
        "    if threshold is not None:\n",
        "        k = auto_select_k(eigenvalues, threshold)\n",
        "\n",
        "    # Выбор первых k векторов и формирование матрицы V_k (m x k)\n",
        "    k = min(k, len(eigenvectors)) if k is not None else len(eigenvectors)\n",
        "    V_k_data = []\n",
        "    for vec in eigenvectors[:k]:\n",
        "        # Нормировка вектора и извлечение элементов как чисел\n",
        "        norm = math.sqrt(sum(x[0] ** 2 for x in vec.data))\n",
        "        if norm == 0:\n",
        "            continue\n",
        "        column = [x[0] / norm for x in vec.data]  # x[0] вместо x\n",
        "        V_k_data.append(column)\n",
        "\n",
        "    if not V_k_data:\n",
        "        return (Matrix(), 0.0)\n",
        "\n",
        "    # Транспонирование матрицы (преобразование в m x k)\n",
        "    V_k = Matrix(V_k_data).transpose()\n",
        "\n",
        "    # Проекция данных\n",
        "    try:\n",
        "        X_proj = X_centered.multiply(V_k)\n",
        "    except ValueError as e:\n",
        "        print(f\"Ошибка умножения матриц: {e}\")\n",
        "        return (Matrix(), 0.0)\n",
        "\n",
        "    # Доля объяснённой дисперсии\n",
        "    total_variance = sum(eigenvalues)\n",
        "    ratio = sum(eigenvalues[:k]) / total_variance if total_variance != 0 else 0.0\n",
        "\n",
        "    return (X_proj, ratio)\n",
        "\n"
      ],
      "metadata": {
        "id": "Jj4YSefBVxYf"
      },
      "execution_count": 774,
      "outputs": []
    },
    {
      "cell_type": "code",
      "source": [
        "X = Matrix([[1, 2], [3, 4], [5, 6]])\n",
        "X_proj, ratio = pca(X, threshold=0.95)\n",
        "print(f\"Выбрано k = {X_proj.data[0].__len__()}, Доля дисперсии: {ratio:.2f}\")"
      ],
      "metadata": {
        "colab": {
          "base_uri": "https://localhost:8080/"
        },
        "id": "GqLPjbcnWSva",
        "outputId": "eb601f80-4704-4d81-acdd-980997719bf2"
      },
      "execution_count": 775,
      "outputs": [
        {
          "output_type": "stream",
          "name": "stdout",
          "text": [
            "Выбрано k = 1, Доля дисперсии: 1.00\n"
          ]
        }
      ]
    },
    {
      "cell_type": "markdown",
      "source": [
        "\n",
        "# Задание (Expert): Обработать пропущенные значения в данных:"
      ],
      "metadata": {
        "id": "KG6Up2u7W8NA"
      }
    },
    {
      "cell_type": "code",
      "source": [
        "def handle_missing_values(X):\n",
        "    \"\"\"Заменяет пропущенные значения (NaN) на среднее значение столбца.\"\"\"\n",
        "    if not X.data:\n",
        "        return Matrix()\n",
        "\n",
        "    n = len(X)\n",
        "    m = len(X[0]) if X.data else 0\n",
        "    filled_data = []\n",
        "    column_means = []\n",
        "\n",
        "    # Вычисление средних значений для каждого столбца\n",
        "    for j in range(m):\n",
        "        valid_values = []\n",
        "        for i in range(n):\n",
        "            val = X[i][j]\n",
        "            if not math.isnan(val):\n",
        "                valid_values.append(val)\n",
        "\n",
        "        if not valid_values:\n",
        "            raise ValueError(f\"Столбец {j} полностью состоит из NaN\")\n",
        "\n",
        "        mean = sum(valid_values) / len(valid_values)\n",
        "        column_means.append(mean)\n",
        "\n",
        "    # Замена NaN на средние значения\n",
        "    for i in range(n):\n",
        "        new_row = []\n",
        "        for j in range(m):\n",
        "            val = X[i][j]\n",
        "            new_val = column_means[j] if math.isnan(val) else val\n",
        "            new_row.append(new_val)\n",
        "        filled_data.append(new_row)\n",
        "\n",
        "    return Matrix(filled_data)\n",
        "\n"
      ],
      "metadata": {
        "id": "H_uCLJQ5W_17"
      },
      "execution_count": 776,
      "outputs": []
    },
    {
      "cell_type": "code",
      "source": [
        "# Пример использования\n",
        "import math\n",
        "X = Matrix([\n",
        "    [1, math.nan, 3],\n",
        "    [math.nan, 5, 6],\n",
        "    [7, 8, math.nan]\n",
        "])\n",
        "X_filled = handle_missing_values(X)\n",
        "print(X_filled)"
      ],
      "metadata": {
        "colab": {
          "base_uri": "https://localhost:8080/"
        },
        "id": "sO-oFeTfYK8k",
        "outputId": "f701df73-7228-4948-a174-34f7d3c84169"
      },
      "execution_count": 777,
      "outputs": [
        {
          "output_type": "stream",
          "name": "stdout",
          "text": [
            "1.00\t6.50\t3.00\n",
            "4.00\t5.00\t6.00\n",
            "7.00\t8.00\t4.50\n"
          ]
        }
      ]
    },
    {
      "cell_type": "markdown",
      "source": [
        "# Задание (Expert): Исследовать влияние шума на PCA:\n",
        "*   Добавить случайный шум к данным.\n",
        "*   Сравнить результаты PCA до и последобавления шума."
      ],
      "metadata": {
        "id": "v9A96b4YYJ_d"
      }
    },
    {
      "cell_type": "code",
      "source": [
        "def add_noise_and_compare(X: Matrix, noise_level: float = 0.1) -> dict:\n",
        "    \"\"\"Сравнивает результаты PCA до и после добавления шума.\"\"\"\n",
        "    # PCA для исходных данных\n",
        "    X_clean = X.copy()\n",
        "    X_proj_clean, ratio_clean = pca(X_clean, threshold=0.95)\n",
        "    C_clean = covariance_matrix(center_data(X_clean))\n",
        "    eigenvalues_clean = find_eigenvalues(C_clean)\n",
        "\n",
        "    # Добавление шума\n",
        "    X_noisy = X.copy()\n",
        "    nrows = X_noisy.nrows  # Теперь атрибут доступен\n",
        "    ncols = X_noisy.ncols\n",
        "\n",
        "    for j in range(ncols):\n",
        "        col = [X_noisy[i][j] for i in range(nrows)]\n",
        "        mu = sum(col) / len(col) if len(col) > 0 else 0\n",
        "        variance = sum((x - mu)**2 for x in col) / (len(col) - 1) if len(col) > 1 else 0\n",
        "        sigma = math.sqrt(variance) if variance > 0 else 0.0\n",
        "        # Обработка нулевого std\n",
        "        noise_std = sigma * noise_level if sigma != 0 else abs(mu) * 0.01 * noise_level\n",
        "        for i in range(nrows):\n",
        "            X_noisy[i][j] += random.gauss(0, noise_std)\n",
        "\n",
        "    # PCA для зашумлённых данных\n",
        "    X_proj_noisy, ratio_noisy = pca(X_noisy, threshold=0.95)\n",
        "    C_noisy = covariance_matrix(center_data(X_noisy))\n",
        "    eigenvalues_noisy = find_eigenvalues(C_noisy)\n",
        "\n",
        "    return {\n",
        "        \"original\": {\n",
        "            \"k\": X_proj_clean.ncols if X_proj_clean.data else 0,\n",
        "            \"explained_variance\": ratio_clean,\n",
        "            \"eigenvalues\": eigenvalues_clean\n",
        "        },\n",
        "        \"noisy\": {\n",
        "            \"k\": X_proj_noisy.ncols if X_proj_noisy.data else 0,\n",
        "            \"explained_variance\": ratio_noisy,\n",
        "            \"eigenvalues\": eigenvalues_noisy\n",
        "        }\n",
        "    }"
      ],
      "metadata": {
        "id": "XdR1PI3unXTG"
      },
      "execution_count": 778,
      "outputs": []
    },
    {
      "cell_type": "code",
      "source": [
        "data = Matrix([[1.0, 2.0], [3.0, 4.0], [5.0, 6.0]])\n",
        "results = add_noise_and_compare(data, noise_level=0.1)\n",
        "\n",
        "print(\"Исходные данные:\")\n",
        "print(f\"k = {results['original']['k']}, Доля дисперсии = {results['original']['explained_variance']:.2f}\")\n",
        "print(\"Собственные значения:\", results[\"original\"][\"eigenvalues\"])\n",
        "\n",
        "print(\"\\nЗашумлённые данные:\")\n",
        "print(f\"k = {results['noisy']['k']}, Доля дисперсии = {results['noisy']['explained_variance']:.2f}\")\n",
        "print(\"Собственные значения:\", results[\"noisy\"][\"eigenvalues\"])"
      ],
      "metadata": {
        "colab": {
          "base_uri": "https://localhost:8080/"
        },
        "id": "653YFxfouNqZ",
        "outputId": "9e25078c-7e87-47b7-e6ea-da48fbeb94d3"
      },
      "execution_count": 780,
      "outputs": [
        {
          "output_type": "stream",
          "name": "stdout",
          "text": [
            "Исходные данные:\n",
            "k = 1, Доля дисперсии = 1.00\n",
            "Собственные значения: [8.0]\n",
            "\n",
            "Зашумлённые данные:\n",
            "k = 0, Доля дисперсии = 0.00\n",
            "Собственные значения: []\n"
          ]
        }
      ]
    }
  ]
}